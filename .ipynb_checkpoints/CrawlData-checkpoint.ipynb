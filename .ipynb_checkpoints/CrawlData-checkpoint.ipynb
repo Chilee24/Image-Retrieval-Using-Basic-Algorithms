{
 "cells": [
  {
   "metadata": {},
   "cell_type": "markdown",
   "source": "Crawl Image from https://www.freeimages.com/\n",
   "id": "bed7d25149b5266d"
  },
  {
   "metadata": {},
   "cell_type": "code",
   "outputs": [],
   "execution_count": null,
   "source": [
    "from bs4 import BeautifulSoup\n",
    "from urllib.parse import urljoin, urlparse\n",
    "import urllib.request\n",
    "\n",
    "import time\n",
    "from threading import Thread\n",
    "import os\n"
   ],
   "id": "7beff066af82a68c"
  },
  {
   "metadata": {},
   "cell_type": "code",
   "outputs": [],
   "execution_count": null,
   "source": [
    "class GetImagesfromPages:\n",
    "    def __init__(self, n_threads, n_page, url_page):\n",
    "        self.n_threads = n_threads\n",
    "        self.n_page = n_page\n",
    "        self.url_page = url_page\n",
    "        self.result_urls = []"
   ],
   "id": "76ba5e3637005b7e"
  }
 ],
 "metadata": {
  "kernelspec": {
   "display_name": "Python 3",
   "language": "python",
   "name": "python3"
  },
  "language_info": {
   "codemirror_mode": {
    "name": "ipython",
    "version": 2
   },
   "file_extension": ".py",
   "mimetype": "text/x-python",
   "name": "python",
   "nbconvert_exporter": "python",
   "pygments_lexer": "ipython2",
   "version": "2.7.6"
  }
 },
 "nbformat": 4,
 "nbformat_minor": 5
}
