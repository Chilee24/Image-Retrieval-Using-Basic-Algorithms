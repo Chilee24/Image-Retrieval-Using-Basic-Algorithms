{
 "cells": [
  {
   "metadata": {
    "ExecuteTime": {
     "end_time": "2024-07-27T04:03:01.666414Z",
     "start_time": "2024-07-27T04:03:01.663463Z"
    }
   },
   "cell_type": "code",
   "source": [
    "import os\n",
    "from PIL import Image\n",
    "import numpy as np\n",
    "import warnings\n",
    "\n",
    "warnings.filterwarnings(\"ignore\", \"(Possibly )?corrupt EXIF data\", UserWarning)\n",
    "Image.MAX_IMAGE_PIXELS = None"
   ],
   "id": "7ad064d7172e205",
   "outputs": [],
   "execution_count": 23
  },
  {
   "metadata": {
    "ExecuteTime": {
     "end_time": "2024-07-27T04:03:01.676437Z",
     "start_time": "2024-07-27T04:03:01.671421Z"
    }
   },
   "cell_type": "code",
   "source": [
    "def processing_data(images_path):\n",
    "    dic_categories = {'animal': [], 'plant': [], 'furniture': [], 'scenery': []}\n",
    "    count = 0\n",
    "\n",
    "    for folder in os.listdir(images_path):\n",
    "        if folder.split(\"_\")[0] in dic_categories:\n",
    "            path = images_path + folder\n",
    "            list_dir = [path + '/' + name for name in os.listdir(path) if name.endswith((\".jpg\", \".png\", \".jpeg\"))]\n",
    "            for p in list_dir:\n",
    "                try:\n",
    "                    # Open image\n",
    "                    img = Image.open(p)\n",
    "\n",
    "                    # Verify image\n",
    "                    img.verify()\n",
    "\n",
    "                    # Open image\n",
    "                    img = Image.open(p)\n",
    "\n",
    "                    # Check width of image \n",
    "                    if img.width < 10:\n",
    "                        print(\"Image too small: \", p)\n",
    "                        os.remove(p)\n",
    "\n",
    "                    # Only 3 channel image (color image) \n",
    "                    img = np.asarray(img)\n",
    "                    if img.shape[2] != 3:\n",
    "                        os.remove(p)\n",
    "                       \n",
    "                except Exception as e:\n",
    "                    print(e)\n",
    "                    count += 1\n",
    "                    print(\"error: \", p)\n",
    "                    os.remove(p)"
   ],
   "id": "7726403acd5683c4",
   "outputs": [],
   "execution_count": 24
  },
  {
   "metadata": {
    "ExecuteTime": {
     "end_time": "2024-07-27T04:03:16.532056Z",
     "start_time": "2024-07-27T04:03:01.677444Z"
    }
   },
   "cell_type": "code",
   "source": [
    "root_images_path = \"images/\"\n",
    "processing_data(images_path=root_images_path)"
   ],
   "id": "117a49e12a5b4a04",
   "outputs": [
    {
     "name": "stdout",
     "output_type": "stream",
     "text": [
      "tuple index out of range\n",
      "error:  images/animal_bird/0.2951517525768531.jpg\n",
      "tuple index out of range\n",
      "error:  images/animal_pig/0.40903474000137063.jpg\n",
      "tuple index out of range\n",
      "error:  images/furniture_book/0.07350445547511042.jpg\n",
      "tuple index out of range\n",
      "error:  images/furniture_book/0.15562581545344.jpg\n",
      "tuple index out of range\n",
      "error:  images/furniture_book/0.20363583327338697.jpg\n",
      "tuple index out of range\n",
      "error:  images/furniture_book/0.5296573703584772.jpg\n",
      "tuple index out of range\n",
      "error:  images/furniture_book/0.5786702483411923.jpg\n",
      "tuple index out of range\n",
      "error:  images/furniture_book/0.6006372737577251.jpg\n",
      "tuple index out of range\n",
      "error:  images/furniture_book/0.6192717532996466.jpg\n",
      "tuple index out of range\n",
      "error:  images/furniture_book/0.9057393117775681.jpg\n",
      "tuple index out of range\n",
      "error:  images/furniture_Bookcase/0.03195002365494404.jpg\n",
      "tuple index out of range\n",
      "error:  images/furniture_Piano/0.03795598318037474.jpg\n",
      "tuple index out of range\n",
      "error:  images/furniture_Piano/0.09989632442326668.jpg\n",
      "tuple index out of range\n",
      "error:  images/furniture_Piano/0.44946732880647844.jpg\n",
      "tuple index out of range\n",
      "error:  images/furniture_Piano/0.8140606804416286.jpg\n",
      "tuple index out of range\n",
      "error:  images/furniture_Piano/0.934658337397094.jpg\n",
      "tuple index out of range\n",
      "error:  images/furniture_table/0.022708954174372575.jpg\n",
      "tuple index out of range\n",
      "error:  images/furniture_table/0.18626613101599454.jpg\n",
      "tuple index out of range\n",
      "error:  images/furniture_Umbrella/0.17096347683061575.jpg\n",
      "tuple index out of range\n",
      "error:  images/plant_apple/0.1080449689807863.jpg\n",
      "tuple index out of range\n",
      "error:  images/plant_flower/0.20900248237297758.jpg\n",
      "tuple index out of range\n",
      "error:  images/scenery_cave/0.3784557462276532.jpg\n",
      "tuple index out of range\n",
      "error:  images/scenery_cave/0.47561548087893735.jpg\n",
      "tuple index out of range\n",
      "error:  images/scenery_cloud/0.5258310490762286.jpg\n",
      "tuple index out of range\n",
      "error:  images/scenery_cloud/0.7348585505516959.jpg\n"
     ]
    }
   ],
   "execution_count": 25
  }
 ],
 "metadata": {
  "kernelspec": {
   "display_name": "Python 3",
   "language": "python",
   "name": "python3"
  },
  "language_info": {
   "codemirror_mode": {
    "name": "ipython",
    "version": 2
   },
   "file_extension": ".py",
   "mimetype": "text/x-python",
   "name": "python",
   "nbconvert_exporter": "python",
   "pygments_lexer": "ipython2",
   "version": "2.7.6"
  }
 },
 "nbformat": 4,
 "nbformat_minor": 5
}
